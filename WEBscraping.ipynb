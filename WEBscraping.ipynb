{
 "cells": [
  {
   "cell_type": "code",
   "execution_count": 2,
   "id": "95e2616e",
   "metadata": {},
   "outputs": [
    {
     "name": "stdout",
     "output_type": "stream",
     "text": [
      "Requirement already satisfied: autoscraper in c:\\users\\saniya\\anaconda3\\lib\\site-packages (1.1.14)\n",
      "Requirement already satisfied: lxml in c:\\users\\saniya\\anaconda3\\lib\\site-packages (from autoscraper) (4.6.3)\n",
      "Requirement already satisfied: requests in c:\\users\\saniya\\anaconda3\\lib\\site-packages (from autoscraper) (2.25.1)\n",
      "Requirement already satisfied: bs4 in c:\\users\\saniya\\anaconda3\\lib\\site-packages (from autoscraper) (0.0.1)\n",
      "Requirement already satisfied: beautifulsoup4 in c:\\users\\saniya\\anaconda3\\lib\\site-packages (from bs4->autoscraper) (4.9.3)\n",
      "Requirement already satisfied: soupsieve>1.2 in c:\\users\\saniya\\anaconda3\\lib\\site-packages (from beautifulsoup4->bs4->autoscraper) (2.2.1)\n",
      "Requirement already satisfied: chardet<5,>=3.0.2 in c:\\users\\saniya\\anaconda3\\lib\\site-packages (from requests->autoscraper) (4.0.0)\n",
      "Requirement already satisfied: idna<3,>=2.5 in c:\\users\\saniya\\anaconda3\\lib\\site-packages (from requests->autoscraper) (2.10)\n",
      "Requirement already satisfied: urllib3<1.27,>=1.21.1 in c:\\users\\saniya\\anaconda3\\lib\\site-packages (from requests->autoscraper) (1.26.4)\n",
      "Requirement already satisfied: certifi>=2017.4.17 in c:\\users\\saniya\\anaconda3\\lib\\site-packages (from requests->autoscraper) (2020.12.5)\n"
     ]
    }
   ],
   "source": [
    "!pip install autoscraper"
   ]
  },
  {
   "cell_type": "code",
   "execution_count": 15,
   "id": "6c6e1918",
   "metadata": {},
   "outputs": [],
   "source": [
    "from autoscraper import AutoScraper"
   ]
  },
  {
   "cell_type": "code",
   "execution_count": 36,
   "id": "71823763",
   "metadata": {},
   "outputs": [],
   "source": [
    "url = 'https://www.amazon.in/s?k=bags&crid=2M096C61O4MLT&qid=1653308124&sprefix=ba%2Caps%2C283&ref=sr_pg_1'\n",
    "\n",
    "wanted_list = [\" ₹841 \", \"HEROZ Harbour Unisex Nylon 28 L Travel Laptop Backpack Water Resistant Slim Durable Fits Up to 15.6 Inch Laptop Notebook (153-ALL) (Air Force Blue)\",\" 6,372\"]"
   ]
  },
  {
   "cell_type": "code",
   "execution_count": 37,
   "id": "b012f054",
   "metadata": {},
   "outputs": [
    {
     "name": "stdout",
     "output_type": "stream",
     "text": [
      "['₹1,358', '₹2,669', '₹1,221', '₹2,399', '₹699', '₹1,799', '₹1,499', '₹3,200', '₹841', '₹2,064', '₹749', '₹1,999', 'Cosmus Vogue Casual Laptop Backpack with USB Charger Port 46cm 26 Litre Maroon College Bag', 'COSMUS WEBSTAR 45 CM LAPTOP BACKPACK 35 LTRS LARGE SCHOOL BAG / TRAVEL BAGPACK (NAVY)', 'Genie Flamenco2 Casual Backpacks for Women', 'HEROZ Hammer Unisex Nylon 45 L Travel Laptop Backpack Water Resistant Slim Durable Fits Up to 17.3 Inch Laptop Notebook (All) (Grey & Black)', 'HEROZ Harbour Unisex Nylon 28 L Travel Laptop Backpack Water Resistant Slim Durable Fits Up to 15.6 Inch Laptop Notebook (153-ALL) (Air Force Blue)', 'Stylbase Waterproof Laptop Bag/Office Bag/School Bag/business bag/Unisex Travel Bag 35 L Laptop Backpack With Rain cover.', '1,300', '748', '1,170', '7,423', '6,372', '18']\n"
     ]
    }
   ],
   "source": [
    "scraper = AutoScraper()\n",
    "result = scraper.build(url, wanted_list)\n",
    "print(result)"
   ]
  },
  {
   "cell_type": "code",
   "execution_count": 38,
   "id": "e1c61327",
   "metadata": {
    "scrolled": true
   },
   "outputs": [
    {
     "data": {
      "text/plain": [
       "{'rule_4np5': ['₹1,358',\n",
       "  '₹2,669',\n",
       "  '₹1,221',\n",
       "  '₹2,399',\n",
       "  '₹699',\n",
       "  '₹1,799',\n",
       "  '₹1,499',\n",
       "  '₹3,200',\n",
       "  '₹841',\n",
       "  '₹2,064',\n",
       "  '₹1,563',\n",
       "  '₹2,899'],\n",
       " 'rule_bktj': ['₹1,358',\n",
       "  '₹2,669',\n",
       "  '₹1,221',\n",
       "  '₹2,399',\n",
       "  '₹699',\n",
       "  '₹1,799',\n",
       "  '₹1,499',\n",
       "  '₹3,200',\n",
       "  '₹841',\n",
       "  '₹2,064',\n",
       "  '₹1,563',\n",
       "  '₹2,899'],\n",
       " 'rule_8xr0': ['Cosmus Vogue Casual Laptop Backpack with USB Charger Port 46cm 26 Litre Maroon College Bag',\n",
       "  'COSMUS WEBSTAR 45 CM LAPTOP BACKPACK 35 LTRS LARGE SCHOOL BAG / TRAVEL BAGPACK (NAVY)',\n",
       "  'Genie Flamenco2 Casual Backpacks for Women',\n",
       "  'HEROZ Hammer Unisex Nylon 45 L Travel Laptop Backpack Water Resistant Slim Durable Fits Up to 17.3 Inch Laptop Notebook (All) (Grey & Black)',\n",
       "  'HEROZ Harbour Unisex Nylon 28 L Travel Laptop Backpack Water Resistant Slim Durable Fits Up to 15.6 Inch Laptop Notebook (153-ALL) (Air Force Blue)',\n",
       "  'Cosmus Sliden 38L Laptop Backpack With 2 Compartments'],\n",
       " 'rule_bvoo': ['1,300', '748', '1,170', '7,423', '6,372', '101']}"
      ]
     },
     "execution_count": 38,
     "metadata": {},
     "output_type": "execute_result"
    }
   ],
   "source": [
    "scraper.get_result_similar('https://www.amazon.in/s?k=bags&crid=2M096C61O4MLT&qid=1653308124&sprefix=ba%2Caps%2C283&ref=sr_pg_1', grouped = True)"
   ]
  },
  {
   "cell_type": "code",
   "execution_count": 40,
   "id": "3a33b531",
   "metadata": {},
   "outputs": [],
   "source": [
    "scraper.set_rule_aliases({'rule_8xr0': 'Title', 'rule_4np5' : 'Price', 'rule_bvoo':'Rating' })\n",
    "scraper.keep_rules(['rule_8xr0','rule_4np5', 'rule_bvoo'])\n",
    "scraper.save('amazon-search')"
   ]
  },
  {
   "cell_type": "code",
   "execution_count": 42,
   "id": "27b5d8b8",
   "metadata": {},
   "outputs": [],
   "source": [
    "scraper.load('amazon-search')"
   ]
  },
  {
   "cell_type": "code",
   "execution_count": 45,
   "id": "76a06651",
   "metadata": {},
   "outputs": [],
   "source": [
    "import openpyxl"
   ]
  },
  {
   "cell_type": "code",
   "execution_count": 53,
   "id": "61645f85",
   "metadata": {},
   "outputs": [
    {
     "name": "stdout",
     "output_type": "stream",
     "text": [
      "['Sheet']\n",
      "['Amazon search']\n"
     ]
    }
   ],
   "source": [
    "excel = openpyxl.Workbook()\n",
    "print(excel.sheetnames)\n",
    "sheet = excel.active\n",
    "sheet.title = 'Amazon search'\n",
    "print(excel.sheetnames)\n",
    "\n",
    "sheet.append(['Title', 'Price', 'Rating'])\n",
    "\n"
   ]
  },
  {
   "cell_type": "code",
   "execution_count": 52,
   "id": "132752ee",
   "metadata": {},
   "outputs": [],
   "source": [
    "excel.save('Amazon Product details.xlsx')"
   ]
  },
  {
   "cell_type": "code",
   "execution_count": null,
   "id": "17856418",
   "metadata": {},
   "outputs": [],
   "source": []
  }
 ],
 "metadata": {
  "kernelspec": {
   "display_name": "Python 3",
   "language": "python",
   "name": "python3"
  },
  "language_info": {
   "codemirror_mode": {
    "name": "ipython",
    "version": 3
   },
   "file_extension": ".py",
   "mimetype": "text/x-python",
   "name": "python",
   "nbconvert_exporter": "python",
   "pygments_lexer": "ipython3",
   "version": "3.8.8"
  }
 },
 "nbformat": 4,
 "nbformat_minor": 5
}
